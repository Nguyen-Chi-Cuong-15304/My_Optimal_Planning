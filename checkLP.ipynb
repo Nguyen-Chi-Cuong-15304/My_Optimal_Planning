{
 "cells": [
  {
   "cell_type": "code",
   "execution_count": 14,
   "metadata": {},
   "outputs": [
    {
     "name": "stdout",
     "output_type": "stream",
     "text": [
      "[47, 10, 15, 18, 10]\n",
      "[53, 10, 10, 17, 10]\n",
      "[41, 20, 10, 19, 10]\n",
      "[60, 10, 10, 10, 10]\n",
      "[60, 10, 10, 10, 10]\n",
      "[58, 10, 10, 12, 10]\n",
      "[43, 10, 20, 17, 10]\n",
      "[45, 10, 17, 18, 10]\n",
      "[52, 10, 18, 10, 10]\n",
      "[41, 20, 10, 19, 10]\n",
      "[33, 18, 19, 20, 10]\n",
      "[60, 10, 10, 10, 10]\n",
      "[51, 10, 10, 19, 10]\n",
      "[44, 18, 18, 10, 10]\n",
      "[50, 10, 10, 20, 10]\n",
      "[51, 10, 10, 19, 10]\n",
      "[45, 10, 19, 16, 10]\n",
      "[60, 10, 10, 10, 10]\n",
      "[47, 10, 19, 14, 10]\n",
      "[42, 19, 18, 11, 10]\n"
     ]
    },
    {
     "data": {
      "text/plain": [
       "(True, True, True, True)"
      ]
     },
     "execution_count": 14,
     "metadata": {},
     "output_type": "execute_result"
    }
   ],
   "source": [
    "import numpy as np\n",
    "\n",
    "def read_input_from_file(filename):\n",
    "    with open(filename, 'r') as file:\n",
    "        lines = file.readlines()\n",
    "    N, D, A, B = map(int, lines[0].split())\n",
    "    dayoff = np.zeros((N+1, D+1))\n",
    "    for i in range(1, N+1):\n",
    "        numbers = list(map(int, lines[i].split()))\n",
    "        for j in range(0, len(numbers) - 1):\n",
    "            dayoff[i][numbers[j]] = 1\n",
    "    return N, D, A, B, dayoff\n",
    "\n",
    "N, D, A, B, dayoff = read_input_from_file('test.txt')\n",
    "def input():\n",
    "    data = []\n",
    "    with open('output.txt', 'r') as f:\n",
    "        for line in f:\n",
    "            if line:\n",
    "                data.append(list(map(int, line.strip().split(' '))))\n",
    "    return data[0][0], data[1:]\n",
    "result, data = input()\n",
    "\n",
    "\n",
    "#check so nhan vien trong moi ca trong moi ngay\n",
    "def check_num_staff_per_shift():   \n",
    "    for i in range(len(data[0])):\n",
    "        nums = [0, 0, 0, 0, 0]\n",
    "        for j in range(len(data)):\n",
    "            nums[data[j][i]] += 1\n",
    "        print(nums)\n",
    "        for i in range(1, 5):\n",
    "            if nums[i] < A or nums[i] > B:\n",
    "                return False\n",
    "    return True\n",
    "c1 = check_num_staff_per_shift()\n",
    "\n",
    "def check_night_shift():\n",
    "    for i in range(len(data)):\n",
    "        for j in range(len(data[0]) - 1):\n",
    "            if data[i][j] == 4 and data[i][j + 1] != 0:\n",
    "                return False\n",
    "    return True\n",
    "\n",
    "c2 = check_night_shift()\n",
    "\n",
    "\n",
    "\n",
    "def check_day_off():\n",
    "    for i in range(1, N+1):\n",
    "        for j in range(1, D+1):\n",
    "            if dayoff[i][j] == 1 and data[i-1][j-1] != 0:\n",
    "                print (i, j)\n",
    "                return False\n",
    "    return True\n",
    "\n",
    "c3 = check_day_off()\n",
    "\n",
    "def read_optimal_value_from_file(filename):\n",
    "    with open(filename, 'r') as file:\n",
    "        lines = file.readlines()\n",
    "    return int(lines[0])\n",
    "\n",
    "optimal = read_optimal_value_from_file('optimal.txt')\n",
    "\n",
    "c4 = result == optimal\n",
    "\n",
    "\n",
    "\n",
    "c1, c2, c3, c4"
   ]
  }
 ],
 "metadata": {
  "kernelspec": {
   "display_name": ".venv",
   "language": "python",
   "name": "python3"
  },
  "language_info": {
   "codemirror_mode": {
    "name": "ipython",
    "version": 3
   },
   "file_extension": ".py",
   "mimetype": "text/x-python",
   "name": "python",
   "nbconvert_exporter": "python",
   "pygments_lexer": "ipython3",
   "version": "3.12.5"
  }
 },
 "nbformat": 4,
 "nbformat_minor": 2
}
